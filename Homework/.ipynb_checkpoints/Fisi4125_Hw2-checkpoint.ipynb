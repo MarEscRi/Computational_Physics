{
 "cells": [
  {
   "cell_type": "markdown",
   "id": "0a8023bc-e4d1-4432-8884-19bc9b5cbe8d",
   "metadata": {},
   "source": [
    "### Exercise 2.10: The semi-empirical mass formula\n",
    "\n",
    "In nuclear physics, the semi-empirical mass formula is a formula for calculating the approximate nuclear binding energy $B$ of an atomic nucleus with atomic number $Z$ and mass number $A$:\n",
    "\\begin{gather}\n",
    "    B = a_1 A - a_2 A^{2/3} - a_3 \\frac{Z^2}{A^{1/3}} - a_4 \\frac{(A-2Z)^2}{A} + a_5\\frac{1}{A^{1/2}}\n",
    "\\end{gather}\n",
    "where, in units of millions of electron volts (MeV), the constants are $a_1 = 15.8$, $a_2 = 18.3$, $a_3 = 0.714$,\n",
    "$a_4 = 23.2$, and\n",
    "\\begin{gather}\n",
    "    a_5 = \n",
    "    \\begin{cases}\n",
    "    0 &  &  & \\text{if $A$ is odd}\\\\\n",
    "    12 &  &  & \\text{if $A$ and $Z$ are both even}\\\\\n",
    "    -12 &  &  & \\text{if $A$ is even and $Z$ is odd.}\n",
    "    \\end{cases}\n",
    "\\end{gather}\n",
    "**a)** Write a program that takes as its input the values of $A$ and $Z$, and prints out the binding energy for the corresponding atom. Use your program to find the binding energy of an atom with $A = 58$ and $Z = 28$. (Hint: The correct answer is around $490$ MeV.)\n",
    "\n",
    "***"
   ]
  },
  {
   "cell_type": "code",
   "execution_count": null,
   "id": "18d1a84b-c59d-4ebe-b866-f714ef2c723f",
   "metadata": {},
   "outputs": [],
   "source": []
  },
  {
   "cell_type": "markdown",
   "id": "2b53eda2-c752-43e9-b4e1-2ceb699e8c5e",
   "metadata": {},
   "source": [
    "**b)** Modify your program to print out not the total binding energy $B$, but the binding energy per nucleon, which is $B/A$.\n",
    "\n",
    "***"
   ]
  },
  {
   "cell_type": "code",
   "execution_count": null,
   "id": "672145ba-3d06-459f-9155-02c52e7b0c68",
   "metadata": {},
   "outputs": [],
   "source": []
  },
  {
   "cell_type": "markdown",
   "id": "af957fdf-73cc-480f-9095-56120b7dd05f",
   "metadata": {},
   "source": [
    "**c)** Now modify your program so that it takes as input just a single value of the atomic number $Z$ and then goes through all values of $A$ from $A = Z$ to $A = 3Z$, to find the one that has the largest binding energy per nucleon. This is the most stable nucleus with the given atomic number. Have your program print out the value of $A$ for this most stable nucleus and the value of the binding energy per nucleon.\n",
    "\n",
    "***"
   ]
  },
  {
   "cell_type": "code",
   "execution_count": null,
   "id": "5261bdc4-bfe1-4e06-bd68-cde15f0f26fe",
   "metadata": {},
   "outputs": [],
   "source": []
  },
  {
   "cell_type": "markdown",
   "id": "26c22fe0-de65-4b57-b24f-873d64be8f45",
   "metadata": {},
   "source": [
    "**d)** Modify your program again so that, instead of taking $Z$ as input, it runs through all values of $Z$ from $1$ to $100$ and prints out the most stable value of A for each one. At what value of $Z$ does the maximum binding energy per nucleon occur? (The true answer, in real life, is $Z = 28$, which is nickel. You should find that the semi-empirical mass formula gets the answer roughly right, but not exactly.)\n",
    "\n",
    "***"
   ]
  },
  {
   "cell_type": "code",
   "execution_count": null,
   "id": "eb835045-3084-473b-a369-a18f4aee01fe",
   "metadata": {},
   "outputs": [],
   "source": []
  },
  {
   "cell_type": "markdown",
   "id": "fe09b264-7223-4339-b9b7-13421926182b",
   "metadata": {},
   "source": [
    "### Exercise 2.6: Planetary orbits\n",
    "\n",
    "The orbit in space of one body around another, such as a planet around the Sun, need not be circular. In general it takes the form of an ellipse, with the body sometimes closer in andsometimes further out. If you are given the distance $l_1$ of closest approach that a planet makes to the Sun, also called its perihelion, and its linear velocity $v_1$ at perihelion, then any other property of the orbit can be calculated from these two as follows.\n",
    "\n",
    "**a)** Kepler's second law tells us that the distance $l_2$ and velocity $v_2$ of the planet at its most distant point, or apnetion, satisty $l_1 v_1 = l_2 v_2 $. At the same time the total energy, Kinetic plus gravitational, of a planet with velocity $v$ and distance $r$ from the Sun is given by\n",
    "\\begin{gather}\n",
    "    E = \\frac{1}{2}mv^2 - G\\frac{mM}{r}\n",
    "\\end{gather}\n",
    "where $m$ is the planet's mass, $M = 1.9891 \\times 10^{30}$ kg is the mass of the Sun, and $G = 6.6738 × 10^{-11} Nm^2$ is Newton's gravitational constant. Given that energy must be conserved, show that $v_2$ is the smaller root of the quadratic equation\n",
    "\\begin{gather*}\n",
    "    v_2^2 - \\frac{2GM}{v_1l_1}v_2 - \\left( v_1^2 - \\frac{2GM}{l_1}  \\right)=0\n",
    "\\end{gather*}\n",
    "Once we have $v_2$ we can calculate $l_2$ using the relation $l_2 = l_1 v_1/v_2$.\n",
    "\n",
    "***"
   ]
  },
  {
   "cell_type": "markdown",
   "id": "b5a5dbd9-7ca1-4e89-89be-229cdceb0590",
   "metadata": {},
   "source": [
    "**b)** Given the values of $v_1$, $l_1$, and $l_2$, other parameters of the orbit are given by simple formulas can that be derived from Kepler's laws and the fact that the orbit is an ellipse:\n",
    "\\begin{align}\n",
    "    \\text{Semi-major axis:}& & a&= (l_1 + l_2)/2 \\\\\n",
    "    \\text{Semi-minor axis:}& & b&= \\sqrt{l_1 l_2} \\\\\n",
    "    \\text{Orbital period:}& & T&= \\frac{2\\pi ab}{l_1v_1}\\\\\n",
    "    \\text{Orbital eccentricity:}& & e&= \\frac{l_2-l_1}{l_2+l_1}\n",
    "\\end{align}\n",
    "Write a program that asks the user to enter the distance to the Sun and velocity at perihe-lion, then calculates and prints the quantities $l_2$, $v_2$, $T$, and $e$.\n",
    "\n",
    "***"
   ]
  },
  {
   "cell_type": "markdown",
   "id": "19a7cde5-3043-499f-805e-4dc8a200321e",
   "metadata": {},
   "source": [
    "**c)** Test your program by having it calculate the properties of the orbits of the Earth (for which $l_1= 1.4710 \\times 10^{11} m$ and $v_1 = 3.0287 \\times 10^4 m/s$) and Halley's comet ($l_1 = 8.7830 \\times 10^{10} m$ and $v_1 = 5.4529 \\times 10^4 m/s$). Among other things, you should find that the orbital period of the Earth is one year and that of Halley's comet is about $76$ years. \n",
    "\n",
    "***"
   ]
  },
  {
   "cell_type": "code",
   "execution_count": null,
   "id": "8e3b34b9-2b52-4e18-912b-7edc8d26cae6",
   "metadata": {},
   "outputs": [],
   "source": []
  }
 ],
 "metadata": {
  "kernelspec": {
   "display_name": "Python 3 (ipykernel)",
   "language": "python",
   "name": "python3"
  },
  "language_info": {
   "codemirror_mode": {
    "name": "ipython",
    "version": 3
   },
   "file_extension": ".py",
   "mimetype": "text/x-python",
   "name": "python",
   "nbconvert_exporter": "python",
   "pygments_lexer": "ipython3",
   "version": "3.8.16"
  }
 },
 "nbformat": 4,
 "nbformat_minor": 5
}
