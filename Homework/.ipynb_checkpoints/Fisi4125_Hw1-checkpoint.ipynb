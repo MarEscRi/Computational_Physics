{
 "cells": [
  {
   "cell_type": "markdown",
   "id": "74725e1d-c6dd-470f-bd00-1c3580cfec35",
   "metadata": {},
   "source": [
    "### Exercise 2.1: Another ball dropped from a tower"
   ]
  },
  {
   "cell_type": "markdown",
   "id": "6898efa8-507f-43e3-8336-88d042ff638c",
   "metadata": {},
   "source": [
    "A ball is dropped from a tower of height h with initial velocity zero. Write a program that asks the user to enter the height in meters of the tower and then calculates and prints the time the ball takes until it hits the ground, ignoring air resistance. Use your program to calculate the time for a ball dropped from a 100 m high tower.\n",
    "\n",
    "***"
   ]
  },
  {
   "cell_type": "code",
   "execution_count": 8,
   "id": "bf237e0a-007f-4df5-9082-73282034d8b5",
   "metadata": {},
   "outputs": [
    {
     "name": "stdin",
     "output_type": "stream",
     "text": [
      "What is the height of the building, in meters? 100\n"
     ]
    },
    {
     "name": "stdout",
     "output_type": "stream",
     "text": [
      "Ignoring air resistance the ball takes 4.52 seconds to reach the ground.\n"
     ]
    }
   ],
   "source": [
    "# Cell 1\n",
    "\n",
    "height = float(input('What is the height of the building, in meters?'))\n",
    "fall_time = (height / 4.9) ** (0.5)\n",
    "\n",
    "print('Ignoring air resistance the ball takes', f\"{fall_time:.2f}\", 'seconds to reach the ground.')"
   ]
  },
  {
   "cell_type": "markdown",
   "id": "26d2f286-c8d9-44b5-81ca-b2309c0efb95",
   "metadata": {},
   "source": [
    "### Exercise 2.2: Altitude of a satellite"
   ]
  },
  {
   "cell_type": "markdown",
   "id": "ae1656db-6c6b-4df0-a2f0-74d6b0811ae1",
   "metadata": {},
   "source": [
    "A satellite is to be launched into a circular orbit around the Earth so that it orbits the planet once every T seconds.\n",
    "\n",
    "**a)** Show that the altitude h above the Earth's surface that the satellite must have is\n",
    "\\begin{gather}\n",
    "    h = \\left( \\frac{GMT^2}{4\\pi^2} \\right)^{1/3} - R\n",
    "\\end{gather}\n",
    "where $G = 6.67 \\times 10^{-11} m^{3}kg^{-1}g^{-2}$ is Newton's gravitational constant, $M = 5.97 \\times\n",
    "10^{24} kg$ is the mass of the Earth, and $R = 6371 km$ is its radius.\n",
    "\n",
    "**b)** Write a program that asks the user to enter the desired value of $T$ and then calculates and prints out the correct altitude in meters.\n",
    "\n",
    "**c)** Use your program to calculate the altitudes of satellites that orbit the Earth once a day (so-called \"geosynchronous\" orbit), once every 90 minutes, and once every 45 minutes.\n",
    "What do you conclude from the last of these calculations?\n",
    "\n",
    "**d)** Technically a geosynchronous satellite is one that orbits the Earth once per sidereal day, which is 23.93 hours, not 24 hours. Why is this? And how much difference will it make to the altitude of the satellite?\n",
    "\n",
    "***"
   ]
  },
  {
   "cell_type": "code",
   "execution_count": null,
   "id": "e6be6887-4f65-41e2-bb94-6f11705ebf79",
   "metadata": {},
   "outputs": [],
   "source": [
    "from math import pi\n",
    "\n",
    "# Constantes \n",
    "\n",
    "G = 6.67 * 10 ** (-11)\n",
    "M = 5.97 * 10 ** (24)\n",
    "pi= pi\n",
    "R = 6371 * 10 ** 3\n",
    "\n",
    "\n",
    "T = float(input('Cuantos segundos se tarde el satelite en orbitar el planeta?'))\n",
    "\n",
    "h = ((G*M*T**2)/(4*pi**2))**(1/3) - R\n",
    "\n",
    "h = h*10**(-3)\n",
    "\n",
    "print('La altitud sera ', h, 'kilometros.')"
   ]
  }
 ],
 "metadata": {
  "kernelspec": {
   "display_name": "Python 3 (ipykernel)",
   "language": "python",
   "name": "python3"
  },
  "language_info": {
   "codemirror_mode": {
    "name": "ipython",
    "version": 3
   },
   "file_extension": ".py",
   "mimetype": "text/x-python",
   "name": "python",
   "nbconvert_exporter": "python",
   "pygments_lexer": "ipython3",
   "version": "3.8.16"
  }
 },
 "nbformat": 4,
 "nbformat_minor": 5
}
