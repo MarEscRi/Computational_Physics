{
 "cells": [
  {
   "cell_type": "markdown",
   "id": "74725e1d-c6dd-470f-bd00-1c3580cfec35",
   "metadata": {},
   "source": [
    "### Exercise 2.1: Another ball dropped from a tower"
   ]
  },
  {
   "cell_type": "markdown",
   "id": "6898efa8-507f-43e3-8336-88d042ff638c",
   "metadata": {},
   "source": [
    "A ball is dropped from a tower of height h with initial velocity zero. Write a program that asks the user to enter the height in meters of the tower and then calculates and prints the time the ball takes until it hits the ground, ignoring air resistance. Use your program to calculate the time for a ball dropped from a 100 m high tower.\n",
    "\n",
    "***"
   ]
  },
  {
   "cell_type": "code",
   "execution_count": 8,
   "id": "bf237e0a-007f-4df5-9082-73282034d8b5",
   "metadata": {},
   "outputs": [
    {
     "name": "stdin",
     "output_type": "stream",
     "text": [
      "What is the height of the building, in meters? 100\n"
     ]
    },
    {
     "name": "stdout",
     "output_type": "stream",
     "text": [
      "Ignoring air resistance the ball takes 4.52 seconds to reach the ground.\n"
     ]
    }
   ],
   "source": [
    "# Cell 1\n",
    "\n",
    "height = float(input('What is the height of the building, in meters?'))\n",
    "fall_time = (height / 4.9) ** (0.5)\n",
    "\n",
    "print('Ignoring air resistance the ball takes', f\"{fall_time:.2f}\", 'seconds to reach the ground.')"
   ]
  },
  {
   "cell_type": "markdown",
   "id": "26d2f286-c8d9-44b5-81ca-b2309c0efb95",
   "metadata": {},
   "source": [
    "### Exercise 2.2: Altitude of a satellite"
   ]
  },
  {
   "cell_type": "markdown",
   "id": "ae1656db-6c6b-4df0-a2f0-74d6b0811ae1",
   "metadata": {},
   "source": [
    "A satellite is to be launched into a circular orbit around the Earth so that it orbits the planet once every T seconds.\n",
    "\n",
    "**a)** Show that the altitude h above the Earth's surface that the satellite must have is\n",
    "\\begin{gather}\n",
    "    h = \\left( \\frac{GMT^2}{4\\pi^2} \\right)^{1/3} - R\n",
    "\\end{gather}\n",
    "where $G = 6.67 \\times 10^{-11} m^{3}kg^{-1}g^{-2}$ is Newton's gravitational constant, $M = 5.97 \\times\n",
    "10^{24} kg$ is the mass of the Earth, and $R = 6371 km$ is its radius.\n",
    "\n",
    "***"
   ]
  },
  {
   "cell_type": "markdown",
   "id": "bc9018da-7753-48a7-9e4d-7d5eeae264ef",
   "metadata": {},
   "source": [
    "For an object orbiting the Earth in a circular orbit at a constant speed we can make use of the following equation:\n",
    "\\begin{gather*}\n",
    "    F_c = \\frac{mv^2}{r}\n",
    "\\end{gather*}\n",
    "Where $r$ is measured from the center of the planet. Note that the only force acting is gravity, as such we use Newton's law of universal gravitation.  \n",
    "\\begin{gather*}\n",
    "    \\frac{GMm}{r^2} = \\frac{mv^2}{r}\\\\\n",
    "    GM = rv^2 \\tag{2.1}\n",
    "\\end{gather*}\n",
    "Since the object is moving in a circular orbit: \n",
    "\\begin{gather*}\n",
    "    v = \\omega r \\tag{2.2}\n",
    "\\end{gather*}\n",
    "where $\\omega$ is the angular frequency, which is of course related to the frequency ($f$) in the following matter: \n",
    "\\begin{gather*}\n",
    "    \\omega = 2\\pi f\n",
    "\\end{gather*}\n",
    "Which is in turn related to the period\n",
    "\\begin{gather*}\n",
    "    \\omega = \\frac{2\\pi}{T}\n",
    "\\end{gather*}\n",
    "Inserting this in equation ($2.2$) we obtain\n",
    "\\begin{gather*}\n",
    "    v =  \\frac{2r\\pi}{T}\\tag{2.2}\n",
    "\\end{gather*}\n",
    "Finally, we insert this into equation ($2.1$) \n",
    "\\begin{gather*}\n",
    "    GM = \\frac{4r^3\\pi^2}{T^2}\\\\\n",
    "    r^3 = \\frac{GMT^2}{4\\pi^2}\\\\\n",
    "    r = \\left( \\frac{GMT^2}{4\\pi^2}\\right)^{1/3}\n",
    "\\end{gather*}\n",
    "The altitude of the object shall be the distance between the Earth's surface and its coordinate, which leaves us with:\n",
    "La altitud del objeto seria la distancia entre la superficie de la tierra y la coordenada del objeto:\n",
    "\\begin{gather*}\n",
    "    h = \\left( \\frac{GMT^2}{4\\pi^2}\\right)^{1/3} - R\n",
    "\\end{gather*}\n",
    "Where ($R$) is the radius of Earth (assuming it is a perfect sphere). "
   ]
  },
  {
   "cell_type": "markdown",
   "id": "57fc27e8-a68f-4a66-88a6-d7b076a255bf",
   "metadata": {},
   "source": [
    "**b)** Write a program that asks the user to enter the desired value of $T$ and then calculates and prints out the correct altitude in meters.\n",
    "\n",
    "***"
   ]
  },
  {
   "cell_type": "code",
   "execution_count": 15,
   "id": "e6be6887-4f65-41e2-bb94-6f11705ebf79",
   "metadata": {},
   "outputs": [
    {
     "name": "stdin",
     "output_type": "stream",
     "text": [
      "Will you provide a period in, seconds (0), minutes (1) or hours (2)? mark one of the numbers. 2\n",
      "What is the satellites period? 23.93\n"
     ]
    },
    {
     "name": "stdout",
     "output_type": "stream",
     "text": [
      "The altitude will be  35,773,762.33 meters.\n"
     ]
    }
   ],
   "source": [
    "# Cell 2\n",
    "\n",
    "from math import pi\n",
    "import numpy as np \n",
    "\n",
    "    # Constantes \n",
    "G = 6.67 * 10 ** (-11) # Newtons gravitational constant\n",
    "M = 5.97 * 10 ** (24) # mass of the earth \n",
    "R = 6371 * 10 ** 3 # radius of the earth\n",
    "\n",
    "    # user input for period \n",
    "n = int(input('Will you provide a period in, seconds (0), minutes (1) or hours (2)? mark one of the numbers.'))\n",
    "period = float(input('What is the satellites period?'))\n",
    "\n",
    "    # for changing to seconds \n",
    "if n == 1: # for periods given in minutes \n",
    "    period = period * 60 \n",
    "if n == 2: # for periods given in hours \n",
    "    period = period * 60 * 60 \n",
    "\n",
    "    # Calculation of altitude \n",
    "altitude = ((G * M * period ** 2) / (4 * pi ** 2)) ** (1/3) - R\n",
    "\n",
    "    # answer \n",
    "print('The altitude will be ',f\"{altitude:,.2f}\", 'meters.')"
   ]
  },
  {
   "cell_type": "markdown",
   "id": "73c7757a-2b48-4f3b-9822-24d0b78c6edd",
   "metadata": {},
   "source": [
    "**c)** Use your program to calculate the altitudes of satellites that orbit the Earth once a day (so-called \"geosynchronous\" orbit), once every 90 minutes, and once every 45 minutes.\n",
    "What do you conclude from the last of these calculations?\n",
    "\n",
    "***"
   ]
  },
  {
   "cell_type": "markdown",
   "id": "a876b7bf-507b-404a-a116-604cc9b78838",
   "metadata": {},
   "source": [
    "We have that a period of $90$ min corresponds to a satellite with an altitude of approximately $279$ km, while a period of $35$ min corresponds to a satellite with an altitude of approximately $-2,181$ km.\n",
    "The negative sign in the second result implies that our second satellite orbits inside the Earth, which is not possible. As such we can say that in order for a satellite to maintain a circular orbit around the earth, it's period must not be short."
   ]
  },
  {
   "cell_type": "markdown",
   "id": "b76bdb99-03e5-45c8-828b-e7446f56d79e",
   "metadata": {},
   "source": [
    "**d)** Technically a geosynchronous satellite is one that orbits the Earth once per sidereal day, which is 23.93 hours, not 24 hours. Why is this? And how much difference will it make to the altitude of the satellite?\n",
    "\n",
    "***"
   ]
  },
  {
   "cell_type": "markdown",
   "id": "cafbdea7-6d9a-40e4-a30e-ec124539630d",
   "metadata": {},
   "source": [
    "A period of $24$ hr corresponds to an altitude of $35,855,910.18$ m, while a period of $23.93$ hr corresponds to an altitude of $35,773,762.33$ m. The slight difference in the amount of time it takes for the earth to complete a rotation should come as no shock given the existence of leap years. Between these two altitudes there is a difference of $82,147.85$ m or $0.22\\%$"
   ]
  }
 ],
 "metadata": {
  "kernelspec": {
   "display_name": "Python 3 (ipykernel)",
   "language": "python",
   "name": "python3"
  },
  "language_info": {
   "codemirror_mode": {
    "name": "ipython",
    "version": 3
   },
   "file_extension": ".py",
   "mimetype": "text/x-python",
   "name": "python",
   "nbconvert_exporter": "python",
   "pygments_lexer": "ipython3",
   "version": "3.8.16"
  }
 },
 "nbformat": 4,
 "nbformat_minor": 5
}
