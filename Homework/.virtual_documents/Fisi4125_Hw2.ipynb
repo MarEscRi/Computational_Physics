


# Cell 1

    # User input  
A = float(input('Indicate the mass number A:'))
Z = float(input('Indicate the atomic number Z:'))

    # Defining constants 
a1 = 15.8
a2 = 18.3
a3 = 0.714
a4 = 23.2
if A % 2 == 1:
    a5 = 0 
elif A % 2 == 0 and Z % 2 == 0:
    a5 = 12
elif A % 2 == 0 and Z % 2 == 1:
    a5 = -12 

    # Binding energy semi-empirical formula
B = a1*A - a2*A**(2/3) - a3*(Z**2/A**(1/3)) - a4*((A-2*Z)**2/A)+ a5/A**(1/2)

    # Output 
print('The Binding energy for this nucleus is:',f"{B:,.2f}", 'MeV')





# Cell 2

    # User input  
A = float(input('Indicate the mass number A:'))
Z = float(input('Indicate the atomic number Z:'))

    # Defining constants 
a1 = 15.8
a2 = 18.3
a3 = 0.714
a4 = 23.2
if A % 2 == 1:
    a5 = 0 
elif A % 2 == 0 and Z % 2 == 0:
    a5 = 12
elif A % 2 == 0 and Z % 2 == 1:
    a5 = -12 

    # Binding energy semi-empirical formula
B = a1*A - a2*A**(2/3) - a3*(Z**2/A**(1/3)) - a4*((A-2*Z)**2/A)+ a5/A**(1/2)

    # Output 
print('The Binding energy per nucleon for this nucleus is:',f"{B/A:,.2f}", 'MeV')





# Cell 3

    # User input
Z = float(input('Indicate the atomic number Z:'))
A = Z

    # Defining constants 
a1 = 15.8
a2 = 18.3
a3 = 0.714
a4 = 23.2

    # Defining empty lists 
binding_per_nucleon_list = [0]*(2*int(Z) + 1) # list of binding energy per nucleon 
mass_number_list = [0]*(2*int(Z) + 1) # list of corresponding mass number

i = 0 # index to be used 

    # loop that goes over all nucleus with Z < A < 3Z
while(A <= 3*Z):
    
        # Defining last constant
    if A % 2 == 1:
        a5 = 0 
    elif A % 2 == 0 and Z % 2 == 0:
        a5 = 12
    elif A % 2 == 0 and Z % 2 == 1:
        a5 = -12 
 
        # Binding energy semi-empirical formula
    B = a1*A - a2*A**(2/3) - a3*(Z**2/A**(1/3)) - a4*((A-2*Z)**2/A)+ a5/A**(1/2)

        # Filling lists with information
    binding_per_nucleon_list[i] = B/A 
    mass_number_list[i] = A
    i = i + 1
    A = A + 1

    # output 
print('The most stable nucleus for Z =',Z,',')
print('has a binding energy per nucleon on:',max(binding_per_nucleon_list),'MeV.')
print('This corresponds to mass number of',mass_number_list[binding_per_nucleon_list.index(max(binding_per_nucleon_list))],'.')



















from math import pi

    # Constants 
M = 1.9891e30
G = 6.66738e-11

    # User input
l1 = float(input('Cual es el valor de l1?'))
v1 = float(input('Cual es el valor de v1?'))

    # Calculations
v2 = (2*G*M) / (v1*l1) - v1
l2 = (l1*v1) / v2

a = 0.5*(l1+l2) # Semi-major axis (meters)
b = (l1*l2)**(0.5) # Semi-minor axis (meters)
T = (2*pi*a*b)/(l1*v1) # Orbital period (second)
e = (l2-l1)/(l2+l1) # Orbital eccentricity

print('The value of l2=',f"{l2:,.2f}",'m')
print('The value of v2=',f"{v2:,.2f}",'m/s')
print('The Orbital period is T=',f"{T/(31_556_952):,.2f}","years")
print('The orbital eccentricity is e =', f"{e:,.4f}")






