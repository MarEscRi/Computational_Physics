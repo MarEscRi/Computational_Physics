{
 "cells": [
  {
   "cell_type": "markdown",
   "id": "0a8023bc-e4d1-4432-8884-19bc9b5cbe8d",
   "metadata": {},
   "source": [
    "### Exercise 2.10: The semi-empirical mass formula\n",
    "\n",
    "In nuclear physics, the semi-empirical mass formula is a formula for calculating the approximate nuclear binding energy $B$ of an atomic nucleus with atomic number $Z$ and mass number $A$:\n",
    "\\begin{gather}\n",
    "    B = a_1 A - a_2 A^{2/3} - a_3 \\frac{Z^2}{A^{1/3}} - a_4 \\frac{(A-2Z)^2}{A} + a_5\\frac{1}{A^{1/2}}\n",
    "\\end{gather}\n",
    "where, in units of millions of electron volts (MeV), the constants are $a_1 = 15.8$, $a_2 = 18.3$, $a_3 = 0.714$,\n",
    "$a_4 = 23.2$, and\n",
    "\\begin{gather}\n",
    "    a_5 = \n",
    "    \\begin{cases}\n",
    "    0 &  &  & \\text{if $A$ is odd}\\\\\n",
    "    12 &  &  & \\text{if $A$ and $Z$ are both even}\\\\\n",
    "    -12 &  &  & \\text{if $A$ is even and $Z$ is odd.}\n",
    "    \\end{cases}\n",
    "\\end{gather}\n",
    "**a)** Write a program that takes as its input the values of $A$ and $Z$, and prints out the binding energy for the corresponding atom. Use your program to find the binding energy of an atom with $A = 58$ and $Z = 28$. (Hint: The correct answer is around $490$ MeV.)\n",
    "\n",
    "***"
   ]
  },
  {
   "cell_type": "code",
   "execution_count": 3,
   "id": "18d1a84b-c59d-4ebe-b866-f714ef2c723f",
   "metadata": {},
   "outputs": [
    {
     "name": "stdin",
     "output_type": "stream",
     "text": [
      "Indicate the mass number A: 58\n",
      "Indicate the atomic number Z: 28\n"
     ]
    },
    {
     "name": "stdout",
     "output_type": "stream",
     "text": [
      "The Binding energy for this nucleus is: 497.56 MeV\n"
     ]
    }
   ],
   "source": [
    "# Cell 1\n",
    "\n",
    "    # User input  \n",
    "A = float(input('Indicate the mass number A:'))\n",
    "Z = float(input('Indicate the atomic number Z:'))\n",
    "\n",
    "    # Defining constants \n",
    "a1 = 15.8\n",
    "a2 = 18.3\n",
    "a3 = 0.714\n",
    "a4 = 23.2\n",
    "if A % 2 == 1:\n",
    "    a5 = 0 \n",
    "elif A % 2 == 0 and Z % 2 == 0:\n",
    "    a5 = 12\n",
    "elif A % 2 == 0 and Z % 2 == 1:\n",
    "    a5 = -12 \n",
    "\n",
    "    # Binding energy semi-empirical formula\n",
    "B = a1*A - a2*A**(2/3) - a3*(Z**2/A**(1/3)) - a4*((A-2*Z)**2/A)+ a5/A**(1/2)\n",
    "\n",
    "    # Output \n",
    "print('The Binding energy for this nucleus is:',f\"{B:,.2f}\", 'MeV')"
   ]
  },
  {
   "cell_type": "markdown",
   "id": "2b53eda2-c752-43e9-b4e1-2ceb699e8c5e",
   "metadata": {},
   "source": [
    "**b)** Modify your program to print out not the total binding energy $B$, but the binding energy per nucleon, which is $B/A$.\n",
    "\n",
    "***"
   ]
  },
  {
   "cell_type": "code",
   "execution_count": 4,
   "id": "672145ba-3d06-459f-9155-02c52e7b0c68",
   "metadata": {},
   "outputs": [
    {
     "name": "stdin",
     "output_type": "stream",
     "text": [
      "Indicate the mass number A: 58\n",
      "Indicate the atomic number Z: 28\n"
     ]
    },
    {
     "name": "stdout",
     "output_type": "stream",
     "text": [
      "The Binding energy per nucleon for this nucleus is: 8.58 MeV\n"
     ]
    }
   ],
   "source": [
    "# Cell 2\n",
    "\n",
    "    # User input  \n",
    "A = float(input('Indicate the mass number A:'))\n",
    "Z = float(input('Indicate the atomic number Z:'))\n",
    "\n",
    "    # Defining constants \n",
    "a1 = 15.8\n",
    "a2 = 18.3\n",
    "a3 = 0.714\n",
    "a4 = 23.2\n",
    "if A % 2 == 1:\n",
    "    a5 = 0 \n",
    "elif A % 2 == 0 and Z % 2 == 0:\n",
    "    a5 = 12\n",
    "elif A % 2 == 0 and Z % 2 == 1:\n",
    "    a5 = -12 \n",
    "\n",
    "    # Binding energy semi-empirical formula\n",
    "B = a1*A - a2*A**(2/3) - a3*(Z**2/A**(1/3)) - a4*((A-2*Z)**2/A)+ a5/A**(1/2)\n",
    "\n",
    "    # Output \n",
    "print('The Binding energy per nucleon for this nucleus is:',f\"{B/A:,.2f}\", 'MeV')"
   ]
  },
  {
   "cell_type": "markdown",
   "id": "af957fdf-73cc-480f-9095-56120b7dd05f",
   "metadata": {},
   "source": [
    "**c)** Now modify your program so that it takes as input just a single value of the atomic number $Z$ and then goes through all values of $A$ from $A = Z$ to $A = 3Z$, to find the one that has the largest binding energy per nucleon. This is the most stable nucleus with the given atomic number. Have your program print out the value of $A$ for this most stable nucleus and the value of the binding energy per nucleon.\n",
    "\n",
    "***"
   ]
  },
  {
   "cell_type": "code",
   "execution_count": 11,
   "id": "5261bdc4-bfe1-4e06-bd68-cde15f0f26fe",
   "metadata": {},
   "outputs": [
    {
     "name": "stdin",
     "output_type": "stream",
     "text": [
      "Indicate the atomic number Z: 28\n"
     ]
    },
    {
     "name": "stdout",
     "output_type": "stream",
     "text": [
      "The most stable nucleus for Z = 28.0 ,\n",
      "has a binding energy per nucleon on: 8.70245768367189 MeV.\n",
      "This corresponds to mass number of 62.0 .\n"
     ]
    }
   ],
   "source": [
    "# Cell 3\n",
    "\n",
    "    # User input\n",
    "Z = float(input('Indicate the atomic number Z:'))\n",
    "A = Z\n",
    "\n",
    "    # Defining constants \n",
    "a1 = 15.8\n",
    "a2 = 18.3\n",
    "a3 = 0.714\n",
    "a4 = 23.2\n",
    "\n",
    "    # Defining empty lists \n",
    "binding_per_nucleon_list = [0]*(2*int(Z) + 1) # list of binding energy per nucleon \n",
    "mass_number_list = [0]*(2*int(Z) + 1) # list of corresponding mass number\n",
    "\n",
    "i = 0 # index to be used \n",
    "\n",
    "    # loop that goes over all nucleus with Z < A < 3Z\n",
    "while(A <= 3*Z):\n",
    "    \n",
    "        # Defining last constant\n",
    "    if A % 2 == 1:\n",
    "        a5 = 0 \n",
    "    elif A % 2 == 0 and Z % 2 == 0:\n",
    "        a5 = 12\n",
    "    elif A % 2 == 0 and Z % 2 == 1:\n",
    "        a5 = -12 \n",
    " \n",
    "        # Binding energy semi-empirical formula\n",
    "    B = a1*A - a2*A**(2/3) - a3*(Z**2/A**(1/3)) - a4*((A-2*Z)**2/A)+ a5/A**(1/2)\n",
    "\n",
    "        # Filling lists with information\n",
    "    binding_per_nucleon_list[i] = B/A \n",
    "    mass_number_list[i] = A\n",
    "    i = i + 1\n",
    "    A = A + 1\n",
    "\n",
    "    # output \n",
    "print('The most stable nucleus for Z =',Z,',')\n",
    "print('has a binding energy per nucleon on:',max(binding_per_nucleon_list),'MeV.')\n",
    "print('This corresponds to mass number of',mass_number_list[binding_per_nucleon_list.index(max(binding_per_nucleon_list))],'.')\n"
   ]
  },
  {
   "cell_type": "markdown",
   "id": "26c22fe0-de65-4b57-b24f-873d64be8f45",
   "metadata": {},
   "source": [
    "**d)** Modify your program again so that, instead of taking $Z$ as input, it runs through all values of $Z$ from $1$ to $100$ and prints out the most stable value of A for each one. At what value of $Z$ does the maximum binding energy per nucleon occur? (The true answer, in real life, is $Z = 28$, which is nickel. You should find that the semi-empirical mass formula gets the answer roughly right, but not exactly.)\n",
    "\n",
    "***"
   ]
  },
  {
   "cell_type": "code",
   "execution_count": 3,
   "id": "eb835045-3084-473b-a369-a18f4aee01fe",
   "metadata": {},
   "outputs": [
    {
     "name": "stdout",
     "output_type": "stream",
     "text": [
      "The nucleous Z =  23 ,\n",
      "has a higher binding energy per nucleon of, 14.089177168639827 MeV.\n",
      "The A Value that gives us thus value is A = 24 .\n"
     ]
    }
   ],
   "source": [
    "#defino las constantes\n",
    "a = 15.8\n",
    "b = 18.3\n",
    "c = 0.714\n",
    "d = 23.2\n",
    "\n",
    "L = [0]*100\n",
    "S = [0]*100\n",
    "\n",
    "j = 1.00\n",
    "for Z in [*range(1,101)]:\n",
    "    A = Z\n",
    "    l = [0]*(2*Z + 1)\n",
    "    s = [0]*(2*Z + 1)\n",
    "    i = 0\n",
    "    \n",
    "    while(A <= 3*Z):\n",
    "\n",
    "        if A % 2 == 1:\n",
    "            d = 0 \n",
    "        elif A % 2 == 0 and Z % 2 == 0:\n",
    "            d = 12\n",
    "        elif A % 2 == 0 and Z % 2 == 1:\n",
    "            d = -12  \n",
    "    \n",
    "        B = a*A - b*A**(2/3) - c*(Z**2/A**(1/3)) - d*((A-2*Z)**2/A)+ c/A**(1/2)\n",
    "    \n",
    "        l[i] = B/A \n",
    "        s[i] = A\n",
    "        i = i + 1\n",
    "        A = A + 1\n",
    "        \n",
    "    L[Z-1] = max(l)\n",
    "    S[Z-1] = s[l.index(max(l))]\n",
    "    if(max(l)>j):\n",
    "        j = max(l)\n",
    "        z = Z\n",
    "\n",
    "print('The nucleous Z = ',z,',')\n",
    "print('has a higher binding energy per nucleon of,',max(L),'MeV.')\n",
    "print('The A Value that gives us thus value is A =',S[L.index(max(L))],'.')\n"
   ]
  },
  {
   "cell_type": "markdown",
   "id": "fe09b264-7223-4339-b9b7-13421926182b",
   "metadata": {},
   "source": [
    "### Exercise 2.6: Planetary orbits\n",
    "\n",
    "The orbit in space of one body around another, such as a planet around the Sun, need not be circular. In general it takes the form of an ellipse, with the body sometimes closer in andsometimes further out. If you are given the distance $l_1$ of closest approach that a planet makes to the Sun, also called its perihelion, and its linear velocity $v_1$ at perihelion, then any other property of the orbit can be calculated from these two as follows.\n",
    "\n",
    "**a)** Kepler's second law tells us that the distance $l_2$ and velocity $v_2$ of the planet at its most distant point, or apnetion, satisty $l_1 v_1 = l_2 v_2 $. At the same time the total energy, Kinetic plus gravitational, of a planet with velocity $v$ and distance $r$ from the Sun is given by\n",
    "\\begin{gather}\n",
    "    E = \\frac{1}{2}mv^2 - G\\frac{mM}{r}\n",
    "\\end{gather}\n",
    "where $m$ is the planet's mass, $M = 1.9891 \\times 10^{30}$ kg is the mass of the Sun, and $G = 6.6738 × 10^{-11} Nm^2$ is Newton's gravitational constant. Given that energy must be conserved, show that $v_2$ is the smaller root of the quadratic equation\n",
    "\\begin{gather*}\n",
    "    v_2^2 - \\frac{2GM}{v_1l_1}v_2 - \\left( v_1^2 - \\frac{2GM}{l_1}  \\right)=0\n",
    "\\end{gather*}\n",
    "Once we have $v_2$ we can calculate $l_2$ using the relation $l_2 = l_1 v_1/v_2$.\n",
    "\n",
    "***"
   ]
  },
  {
   "cell_type": "markdown",
   "id": "1c9a05fa-2273-4bb7-a563-16a698c8a124",
   "metadata": {},
   "source": [
    "Given the following equation: \n",
    "\\begin{gather*}\n",
    "    v_2^2 - \\frac{2GM}{v_1l_1}v_2 - \\left( v_1^2 - \\frac{2GM}{l_1}  \\right)=0\n",
    "\\end{gather*}\n",
    "By using the quadratic formula we obtain:  \n",
    "\\begin{gather}\n",
    "    v_2 = \\frac{(2GM/v_1l_1) \\pm (2v_1 - (2GM/v_1l_1))}{2}\n",
    "\\end{gather}\n",
    "which reduces to \n",
    "\\begin{align*}\n",
    "    v_2 & = v_1 & v_2 & = (2GM/v_1l_1) - v_1\n",
    "\\end{align*}\n",
    "We know that $l_1v_1 = l_2v_2$, and by definition $l_1 < l_2$. as such we must choose the second root"
   ]
  },
  {
   "cell_type": "markdown",
   "id": "b5a5dbd9-7ca1-4e89-89be-229cdceb0590",
   "metadata": {},
   "source": [
    "**b)** Given the values of $v_1$, $l_1$, and $l_2$, other parameters of the orbit are given by simple formulas can that be derived from Kepler's laws and the fact that the orbit is an ellipse:\n",
    "\\begin{align}\n",
    "    \\text{Semi-major axis:}& & a&= (l_1 + l_2)/2 \\\\\n",
    "    \\text{Semi-minor axis:}& & b&= \\sqrt{l_1 l_2} \\\\\n",
    "    \\text{Orbital period:}& & T&= \\frac{2\\pi ab}{l_1v_1}\\\\\n",
    "    \\text{Orbital eccentricity:}& & e&= \\frac{l_2-l_1}{l_2+l_1}\n",
    "\\end{align}\n",
    "Write a program that asks the user to enter the distance to the Sun and velocity at perihe-lion, then calculates and prints the quantities $l_2$, $v_2$, $T$, and $e$.\n",
    "\n",
    "***"
   ]
  },
  {
   "cell_type": "code",
   "execution_count": 3,
   "id": "f2babaf9-eae8-4982-8a58-218b16a804dc",
   "metadata": {},
   "outputs": [
    {
     "name": "stdin",
     "output_type": "stream",
     "text": [
      "Cual es el valor de l1? 1.4710e11\n",
      "Cual es el valor de v1? 3.0287e4\n"
     ]
    },
    {
     "name": "stdout",
     "output_type": "stream",
     "text": [
      "The value of l2= 152,325,170,090.45 m\n",
      "The value of v2= 29,248.07 m/s\n",
      "The Orbital period is T= 1.00 years\n",
      "The orbital eccentricity is e = 0.0175\n"
     ]
    }
   ],
   "source": [
    "\n",
    "from math import pi\n",
    "\n",
    "    # Constants \n",
    "M = 1.9891e30\n",
    "G = 6.66738e-11\n",
    "\n",
    "    # User input\n",
    "l1 = float(input('Cual es el valor de l1?'))\n",
    "v1 = float(input('Cual es el valor de v1?'))\n",
    "\n",
    "    # Calculations\n",
    "v2 = (2*G*M) / (v1*l1) - v1\n",
    "l2 = (l1*v1) / v2\n",
    "\n",
    "a = 0.5*(l1+l2) # Semi-major axis (meters)\n",
    "b = (l1*l2)**(0.5) # Semi-minor axis (meters)\n",
    "T = (2*pi*a*b)/(l1*v1) # Orbital period (second)\n",
    "e = (l2-l1)/(l2+l1) # Orbital eccentricity\n",
    "\n",
    "print('The value of l2=',f\"{l2:,.2f}\",'m')\n",
    "print('The value of v2=',f\"{v2:,.2f}\",'m/s')\n",
    "print('The Orbital period is T=',f\"{T/(31_556_952):,.2f}\",\"years\")\n",
    "print('The orbital eccentricity is e =', f\"{e:,.4f}\")"
   ]
  },
  {
   "cell_type": "markdown",
   "id": "19a7cde5-3043-499f-805e-4dc8a200321e",
   "metadata": {},
   "source": [
    "**c)** Test your program by having it calculate the properties of the orbits of the Earth (for which $l_1= 1.4710 \\times 10^{11} m$ and $v_1 = 3.0287 \\times 10^4 m/s$) and Halley's comet ($l_1 = 8.7830 \\times 10^{10} m$ and $v_1 = 5.4529 \\times 10^4 m/s$). Among other things, you should find that the orbital period of the Earth is one year and that of Halley's comet is about $76$ years. \n",
    "\n",
    "***"
   ]
  },
  {
   "cell_type": "markdown",
   "id": "bfd7051e-fcaa-4a03-8204-ababd1051c91",
   "metadata": {},
   "source": [
    "Running the program for planet Earth we have the following output:  \n",
    "The value of l2= 152,325,170,090.45 m   \n",
    "The value of v2= 29,248.07 m/s    \n",
    "The Orbital period is T= 1.00 years   \n",
    "The orbital eccentricity is e = 0.0175  \n",
    "\n",
    "Running the program for Halley's comet we have the following output:   \n",
    "The value of l2= 5,612,309,285,034.12 m  \n",
    "The value of v2= 853.35 m/s  \n",
    "The Orbital period is T= 83.19 years  \n",
    "The orbital eccentricity is e = 0.9692"
   ]
  }
 ],
 "metadata": {
  "kernelspec": {
   "display_name": "Python 3 (ipykernel)",
   "language": "python",
   "name": "python3"
  },
  "language_info": {
   "codemirror_mode": {
    "name": "ipython",
    "version": 3
   },
   "file_extension": ".py",
   "mimetype": "text/x-python",
   "name": "python",
   "nbconvert_exporter": "python",
   "pygments_lexer": "ipython3",
   "version": "3.8.16"
  }
 },
 "nbformat": 4,
 "nbformat_minor": 5
}
