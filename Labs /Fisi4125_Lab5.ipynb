{
 "cells": [
  {
   "cell_type": "markdown",
   "id": "bee2d0a4-0587-47b8-b4eb-3158f36f08df",
   "metadata": {},
   "source": [
    "### Exercise 4.2 Quadratic Equations\n",
    "**a)** Write a program that takes as input three numbers, $a$, $b$, and $c$, and prints out\n",
    "the two solutions to the quadratic equation $ax^2 + bx + c = 0$ using the standard\n",
    "formula\n",
    "\\begin{gather}\n",
    "    x = \\frac{b \\pm \\sqrt{b^2 - 4ac}}{2a}\n",
    "\\end{gather}\n",
    "Use your program to compute the solutions of $0.001x^2 + 1000x + 0.001 = 0$.\n",
    "***"
   ]
  },
  {
   "cell_type": "code",
   "execution_count": 3,
   "id": "bc146b5a-a7f4-403a-9162-fe7c57424a94",
   "metadata": {},
   "outputs": [
    {
     "name": "stdout",
     "output_type": "stream",
     "text": [
      "Given a quadratic of the form ax^2 + bx + c = 0 \n"
     ]
    },
    {
     "name": "stdin",
     "output_type": "stream",
     "text": [
      "insert a coefficient. 0.001\n",
      "insert b coefficient. 1000\n",
      "insert c coefficient. 0.001\n"
     ]
    },
    {
     "name": "stdout",
     "output_type": "stream",
     "text": [
      "\n",
      "First solution is: -9.999894245993346e-07\n",
      "Second solution is: -999,999.999999\n"
     ]
    }
   ],
   "source": [
    "# cell 1 \n",
    "\n",
    "    # input\n",
    "print('Given a quadratic of the form ax^2 + bx + c = 0 ')\n",
    "a = float(input('insert a coefficient.'))\n",
    "b = float(input('insert b coefficient.'))\n",
    "c = float(input('insert c coefficient.'))\n",
    "\n",
    "    # discriminant \n",
    "d = b**(2) - 4*a*c\n",
    "D = d**(0.5)\n",
    "\n",
    "    # calculating root \n",
    "x1 = (-b + D)/(2*a)\n",
    "x2 = (-b - D)/(2*a)\n",
    "\n",
    "    # output\n",
    "print()\n",
    "print('First solution is:', f\"{x1:,}\")\n",
    "print('Second solution is:', f\"{x2:,}\")"
   ]
  },
  {
   "cell_type": "markdown",
   "id": "a88c7719-eade-4222-81da-ce96752ef2a6",
   "metadata": {},
   "source": [
    "**b)** There is another way to write the solutions to a quadratic equation. Multiplying top and bottom of the solution above by $-b \\mp \\sqrt{b^2 -4ac}$, show that the solutions can also be written as\n",
    "\\begin{gather}\n",
    "    x = \\frac{2c}{-b \\mp \\sqrt{b^2 -4ac}}\n",
    "\\end{gather}\n",
    "Add further lines to your program to print these values in addition to the earlier ones and again use the program to solve $0.001x^2 + 1000x + 0.001 = 0$. What do you see? How do you explain it?\n",
    "***"
   ]
  },
  {
   "cell_type": "code",
   "execution_count": 4,
   "id": "66e0bf50-367a-43ee-bdd7-800944ee5568",
   "metadata": {},
   "outputs": [
    {
     "name": "stdout",
     "output_type": "stream",
     "text": [
      "Given a quadratic of the form ax^2 + bx + c = 0 \n"
     ]
    },
    {
     "name": "stdin",
     "output_type": "stream",
     "text": [
      "insert a coefficient. 0.001\n",
      "insert b coefficient. 1000\n",
      "insert c coefficient. 0.001\n"
     ]
    },
    {
     "name": "stdout",
     "output_type": "stream",
     "text": [
      "\n",
      "First solution is: -1.000000000001e-06\n",
      "Second solution is: -1,000,010.5755125057\n"
     ]
    }
   ],
   "source": [
    "# cell 2 \n",
    "\n",
    "    # input\n",
    "print('Given a quadratic of the form ax^2 + bx + c = 0 ')\n",
    "a = float(input('insert a coefficient.'))\n",
    "b = float(input('insert b coefficient.'))\n",
    "c = float(input('insert c coefficient.'))\n",
    "\n",
    "    # discriminant \n",
    "d = b**(2) - 4*a*c\n",
    "D = d**(0.5)\n",
    "\n",
    "    # calculating root \n",
    "x1 = (2*c)/(-b - D)\n",
    "x2 = (2*c)/(-b + D)\n",
    "\n",
    "    # output\n",
    "print()\n",
    "print('First solution is:', f\"{x1:,}\")\n",
    "print('Second solution is:', f\"{x2:,}\")"
   ]
  },
  {
   "cell_type": "markdown",
   "id": "d79e2c06-5f01-4542-bc8b-cb03dd0dcaf2",
   "metadata": {},
   "source": [
    "**c)** Using what you have learned, write a new program that calculates both roots of a quadratic equation accurately in all cases.\n",
    "***"
   ]
  },
  {
   "cell_type": "code",
   "execution_count": 13,
   "id": "16dd56df-7501-4f0e-996f-2c69803cf7c1",
   "metadata": {},
   "outputs": [
    {
     "name": "stdout",
     "output_type": "stream",
     "text": [
      "Given a quadratic of the form ax^2 + bx + c = 0 \n"
     ]
    },
    {
     "name": "stdin",
     "output_type": "stream",
     "text": [
      "insert a coefficient. 0.001\n",
      "insert b coefficient. 1000\n",
      "insert c coefficient. 0.001\n"
     ]
    },
    {
     "name": "stdout",
     "output_type": "stream",
     "text": [
      "\n",
      "First solution is: -1.000000000001e-06\n",
      "Second solution is: -999,999.999999\n"
     ]
    }
   ],
   "source": [
    "# cell 3\n",
    "\n",
    "    # input\n",
    "print('Given a quadratic of the form ax^2 + bx + c = 0 ')\n",
    "a = float(input('insert a coefficient.'))\n",
    "b = float(input('insert b coefficient.'))\n",
    "c = float(input('insert c coefficient.'))\n",
    "\n",
    "    # discriminant \n",
    "d = b**(2) - 4*a*c\n",
    "D = d**(0.5)\n",
    "\n",
    "    # choosing appropriate method \n",
    "if b**(2) < abs(4*a*c):\n",
    "    x1 = (-b + D)/(2*a)\n",
    "    x2 = (2*c)/(-b + D)\n",
    "else:      \n",
    "    x1 = - (2*c)/(b + D)\n",
    "    x2 = - (b + D)/(2*a)\n",
    "\n",
    "    # output\n",
    "print()\n",
    "print('First solution is:', f\"{x1:,}\")\n",
    "print('Second solution is:', f\"{x2:,}\")"
   ]
  },
  {
   "cell_type": "code",
   "execution_count": null,
   "id": "8948bb92-6db0-4961-be4d-a30b814d0ad8",
   "metadata": {},
   "outputs": [],
   "source": []
  }
 ],
 "metadata": {
  "kernelspec": {
   "display_name": "Python 3 (ipykernel)",
   "language": "python",
   "name": "python3"
  },
  "language_info": {
   "codemirror_mode": {
    "name": "ipython",
    "version": 3
   },
   "file_extension": ".py",
   "mimetype": "text/x-python",
   "name": "python",
   "nbconvert_exporter": "python",
   "pygments_lexer": "ipython3",
   "version": "3.8.16"
  }
 },
 "nbformat": 4,
 "nbformat_minor": 5
}
