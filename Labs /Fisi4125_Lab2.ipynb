{
 "cells": [
  {
   "cell_type": "markdown",
   "id": "77105aee-cd31-406b-80cb-21698e368245",
   "metadata": {},
   "source": [
    "### Exercise 2.4: \n",
    "A spaceship travels from Earth in a straight line at relativistic speed $v$ to another planet $x$ light years away. Write a program to ask the user for the value of $x$ and the speed $v$ as a fraction of the speed of light $c$, then print out the time in years that the spaceship takes to reach its destination (a) in the rest frame of an observer on Earth and (b) as perceived by a passenger on board the ship. Use your program to calculate the answers for a planet 10 light years away with $v=.99c$ \n",
    "***"
   ]
  },
  {
   "cell_type": "code",
   "execution_count": 13,
   "id": "a26b10b5-cef4-40e4-8d0c-287fedcdb9f2",
   "metadata": {},
   "outputs": [
    {
     "name": "stdout",
     "output_type": "stream",
     "text": [
      "Taking the planet as an inercial frame.\n",
      "\n"
     ]
    },
    {
     "name": "stdin",
     "output_type": "stream",
     "text": [
      "How far away is the other planet in Light years?  10\n",
      "At what velocity does the rockect move? .99\n"
     ]
    },
    {
     "name": "stdout",
     "output_type": "stream",
     "text": [
      "In earths frame the rockect will take 10.10 years to reach the planet.\n",
      "In the rockets frame it will take 1.42 years to reach the planet.\n"
     ]
    }
   ],
   "source": [
    "# cell 2\n",
    "\n",
    "    # User input\n",
    "print(\"Taking the planet as an inercial frame.\\n\")\n",
    "x = float(input('How far away is the other planet in Light years? '))\n",
    "v = float(input('At what velocity does the rockect move?'))\n",
    "\n",
    "    # making sure rocket velocity is a fraction of the speed of light \n",
    "while v>1.0 :\n",
    "    print(\"Please provide your velocity as a fraction of lights speed\\n\")\n",
    "    v = float(input('At what velocity does the rockect move?'))\n",
    "    if v<1.0:\n",
    "        break\n",
    "\n",
    "    # making sure rocket is not moving at the spead of light \n",
    "while v==1.0 :\n",
    "    print('Relativity doesnt like that...\\n')\n",
    "    v = float(input('At what velocity does the rockect move?'))\n",
    "    if v<1.0:\n",
    "        break\n",
    "\n",
    "    # calculations \n",
    "gamma =  1 / ((1 - v**2)**(0.5)) # gamma factor \n",
    "tt = x/v # time in earths frame\n",
    "tc = tt/gamma # time in rockets frame\n",
    "\n",
    "    # output \n",
    "print('In earths frame the rockect will take', f'{tt:,.2f}', 'years to reach the planet.') \n",
    "print('In the rockets frame it will take', f'{tc:,.2f}', 'years to reach the planet.')"
   ]
  }
 ],
 "metadata": {
  "kernelspec": {
   "display_name": "Python 3 (ipykernel)",
   "language": "python",
   "name": "python3"
  },
  "language_info": {
   "codemirror_mode": {
    "name": "ipython",
    "version": 3
   },
   "file_extension": ".py",
   "mimetype": "text/x-python",
   "name": "python",
   "nbconvert_exporter": "python",
   "pygments_lexer": "ipython3",
   "version": "3.8.16"
  }
 },
 "nbformat": 4,
 "nbformat_minor": 5
}
