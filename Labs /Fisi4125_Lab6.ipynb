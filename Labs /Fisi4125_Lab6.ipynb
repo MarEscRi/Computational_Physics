{
 "cells": [
  {
   "cell_type": "markdown",
   "id": "196f325f-9a4b-483c-bb70-dc9718e587f5",
   "metadata": {},
   "source": [
    "### Exercise 4.3 Calculating Derivatives\n",
    "Suppose we have a function $f(x)$ and we want to calculate its derivative at a point $x$. We can do that with pencil and paper if we know the mathematical form of the function, or we can do it on the computer by making use of the definition of the derivative:\n",
    "\\begin{gather}\n",
    "    \\frac{\\text{d}f}{\\text{d}x} = \\lim_{\\delta \\rightarrow 0} \\frac{f(x+\\delta) - f(x)}{\\delta}\n",
    "\\end{gather}\n",
    "On the computer we can't actually take the limit as $\\delta$ goes to zero, but we can get a reasonable approximation just by making $\\delta$ small.  \n",
    "**a)** Write a program that defines a function $f(x)$ returning the value $x(x - 1)$, then calculates the derivative of the function at the point $x = 1$ using the formula above with $\\delta = 10^{-2}$. Calculate the true value of the same derivative analytically and compare with the answer your program gives. The two will not agree perfectly. Why not?\n",
    "***"
   ]
  },
  {
   "cell_type": "code",
   "execution_count": 6,
   "id": "45b262b7-a1b7-4710-a8e6-61f98d4ff86a",
   "metadata": {},
   "outputs": [
    {
     "name": "stdout",
     "output_type": "stream",
     "text": [
      "The approximate value is:  1.100000000000001\n",
      "The exact value is:  1.0\n"
     ]
    }
   ],
   "source": [
    "# cell 1\n",
    "\n",
    "    # function of interest \n",
    "def f(x):\n",
    "    return x*(x-1)\n",
    "\n",
    "    # variation\n",
    "d = 10e-2\n",
    "\n",
    "    # point of interest \n",
    "x0 = 1.0\n",
    "\n",
    "    # approximattion \n",
    "df_a = (f(x0 + d) + f(x0))/(d)\n",
    "    \n",
    "    # exact value\n",
    "df_e = 2*x0 - 1\n",
    "\n",
    "    # output \n",
    "print (\"The approximate value is: \",df_a)\n",
    "print (\"The exact value is: \",df_e)\n"
   ]
  },
  {
   "cell_type": "markdown",
   "id": "89519422-d7f3-4ead-8f94-eb758c59aa84",
   "metadata": {},
   "source": [
    "It is to be expected that both of these values disagree, given that the variation must tend to 0 to provide the true derivative"
   ]
  },
  {
   "cell_type": "markdown",
   "id": "fd2568e2-3dd6-4e7d-b2e9-ec6de1d442e4",
   "metadata": {},
   "source": [
    "**b)** Repeat the calculation for $\\delta = 10^{-4}, 10^{-6}, 10^{-8}, 10^{-10}, 10^{-12}, \\text{ and } 10^{-14}$, You\n",
    "should see that the accuracy of the calculation initially gets better as $\\delta$ gets smaller, but then gets worse again. Why is this?\n",
    "***"
   ]
  },
  {
   "cell_type": "code",
   "execution_count": 34,
   "id": "8b0fb4e2-b739-473c-97c0-53e8befb93ec",
   "metadata": {},
   "outputs": [
    {
     "data": {
      "image/png": "[encoded data removed]",
      "text/plain": [
       "<Figure size 640x480 with 1 Axes>"
      ]
     },
     "metadata": {},
     "output_type": "display_data"
    }
   ],
   "source": [
    "# cell 2\n",
    "\n",
    "import pylab as plt\n",
    "\n",
    "    # function of interest \n",
    "def f(x):\n",
    "    return x*(x-1)\n",
    "\n",
    "    # point of interest \n",
    "x0 = 1\n",
    "\n",
    "    # defining information lists\n",
    "y = []\n",
    "x = []\n",
    "\n",
    "    # exact value\n",
    "df_e = 2*x0 - 1\n",
    "\n",
    "    # calculating aproximate value for different variations \n",
    "for n in range(2,15,2):\n",
    "    \n",
    "    d = 10**(-1*n) # variation \n",
    "    df_a = (f(x0 + d) + f(x0))/(d) # approximate value\n",
    "    dif = abs(df_e - df_a) # error \n",
    "    \n",
    "    y.append(dif)\n",
    "    x.append(n)\n",
    "    \n",
    "plt.yscale(\"log\")\n",
    "plt.title(\"Error as a function of variation magnitud \" r'$\\delta = 10^{-n}$')\n",
    "plt.ylabel(\"log scale of error\")\n",
    "plt.xlabel(\"Variation magnitude (n)\")\n",
    "plt.bar(x,y)\n",
    "plt.grid(axis=\"y\")\n",
    "plt.show()"
   ]
  },
  {
   "cell_type": "markdown",
   "id": "ffb985f5-b130-4805-9dcc-7238dd41251d",
   "metadata": {},
   "source": [
    "As we can see in the above bar graph the error does indeed tend to decrease when increasing the magnitude of the variation. This should come as no surprise given that increasing the magnitude of the variation is indeed making it tend to 0.   \n",
    "We can, however, see that after a certain point or error starts to increase when it should continue decreasing. The reason for this lies in the fact that python can only store up to a certain amount of decimal places. Meaning that once we reach a certain amount of precision the numerator will be 0 given that at some point $x+\\delta = 0$ which in turn means $f(x)$ "
   ]
  },
  {
   "cell_type": "code",
   "execution_count": null,
   "id": "d98255f6-557b-49e0-9481-3ab3dd625ecb",
   "metadata": {},
   "outputs": [],
   "source": []
  }
 ],
 "metadata": {
  "kernelspec": {
   "display_name": "Python 3 (ipykernel)",
   "language": "python",
   "name": "python3"
  },
  "language_info": {
   "codemirror_mode": {
    "name": "ipython",
    "version": 3
   },
   "file_extension": ".py",
   "mimetype": "text/x-python",
   "name": "python",
   "nbconvert_exporter": "python",
   "pygments_lexer": "ipython3",
   "version": "3.8.16"
  }
 },
 "nbformat": 4,
 "nbformat_minor": 5
}
