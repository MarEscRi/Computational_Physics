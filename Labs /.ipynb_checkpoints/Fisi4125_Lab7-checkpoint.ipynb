{
 "cells": [
  {
   "cell_type": "markdown",
   "id": "81d6c73a-a888-428f-a691-2ead44096022",
   "metadata": {},
   "source": [
    "### Exercise 6.13: Wien's displacement constant\n",
    "Planck's radiation law tells us that the intensity of radiation per unit area and per unit wavelength $\\lambda$ from a black body at temperature $T$ is\n",
    "\\begin{gather}\n",
    "    I(\\lambda) = \\frac{2\\pi h c^2 \\lambda^{-5}}{e^{hc/\\lambda k_B T} - 1}\n",
    "\\end{gather}\n",
    "where $h$ is Planck's constant, $c$ is the speed of light, and $k_B$ is Boltzmann's constant.  \n",
    "**a)** Show by differentiating that the wavelength $\\lambda$ at which the emitted radiation is strongest is the solution of the equation\n",
    "\\begin{gather}\n",
    "    5e^{-hc/\\lambda k_B T} + \\frac{hc}{\\lambda k_B T} - 5 = 0.\n",
    "\\end{gather}\n",
    "Make the substitution $x = hc/\\lambda k_B T$ and hence show that the wavelength of maximum radiation obeys the Wien displacement law:\n",
    "\\begin{gather}\n",
    "    \\lambda = \\frac{b}{T}\n",
    "\\end{gather}\n",
    "where the so-called Wien displacement constant is $b = hc/k_Bx$, and $x$ is the solution to the nonlinear equation\n",
    "\\begin{gather}\n",
    "    5e^{-x} + x - 5 = 0.\n",
    "\\end{gather}\n",
    "***"
   ]
  },
  {
   "cell_type": "markdown",
   "id": "2350fffb-c3ab-4738-8200-ca0b1e9a2cf4",
   "metadata": {},
   "source": [
    "Given the following equation:\n",
    "\\begin{align*}\n",
    "    I(\\lambda) &= 2\\pi hc^2 \\left(\\frac{1}{\\lambda ^5}\\right) \\left(\\frac{1}{e^{a/\\lambda } - 1}\\right) & a& = \\frac{hc}{k_BT} \\\\\n",
    "\\end{align*}\n",
    "\n",
    "We derive with respect to $\\lambda$:\n",
    "\\begin{gather*}\n",
    "    \\frac{dI}{d\\lambda} = 2\\pi hc^2 \\left(-\\frac{(5\\lambda - a)e^{a/\\lambda } - 5\\lambda } {\\lambda ^7(e^{a/\\lambda} - 1)^2}\\right)\\\\\n",
    "\\end{gather*}\n",
    "\n",
    "From calculus, we know that the $\\lambda$ which produces the maximum value (technically, stationary value) is found when $\\frac{dI}{d\\lambda} = 0$:  \n",
    "\\begin{align*}\n",
    "    2\\pi hc^2 \\left(-\\frac{(5\\lambda - a)e^{a/\\lambda } - 5\\lambda } {\\lambda ^7(e^{a/\\lambda} - 1)^2}\\right) &= 0 \\\\\n",
    "    \\frac{(5\\lambda - a)e^{a/\\lambda } - 5\\lambda } {\\lambda ^7(e^{a/\\lambda} - 1)^2} &= 0  \\\\\n",
    "    (5\\lambda - a)e^{a/\\lambda } - 5\\lambda  &= 0   \\\\\n",
    "    5\\lambda e^{a/\\lambda } - ae^{a/\\lambda } - 5\\lambda  &= 0   \\\\\n",
    "    5 - \\frac{a}{\\lambda} - 5 e^{-a/\\lambda } &= 0   \\\\\n",
    "    5 e^{-hc/k_B T\\lambda } + \\frac{hc}{k_B T \\lambda}  - 5  &= 0   \\\\\n",
    "\\end{align*}\n",
    "\n",
    "Let $x = hc /\\lambda k_B T$, therefore: \n",
    "\\begin{align*}\n",
    "    5 e^{-x} + x  - 5  &= 0   \\\\\n",
    "\\end{align*}\n",
    "\n",
    "With this definition and some algebra, we obtain:\n",
    "\\begin{align*}\n",
    "    \\lambda  &= \\frac{b}{T} &  b & = \\frac{hc}{k_Bx}\n",
    "\\end{align*}"
   ]
  },
  {
   "cell_type": "markdown",
   "id": "bb2c2400-f3e3-472c-a752-b873637eca78",
   "metadata": {},
   "source": [
    "**b)** Write a program to solve this equation to an accuracy of $\\epsilon = 10^{-6}$ using the binary search method, and hence find a value for the displacement constant.\n",
    "***"
   ]
  },
  {
   "cell_type": "code",
   "execution_count": 12,
   "id": "380404f6-c6bc-46c6-be59-935b6c326085",
   "metadata": {},
   "outputs": [
    {
     "name": "stdout",
     "output_type": "stream",
     "text": [
      "The Wiens displacement constant is b = 0.011011953921713087 mK\n"
     ]
    }
   ],
   "source": [
    "# cell 1\n",
    "\n",
    "import math as m \n",
    "\n",
    "def f(x): \n",
    "    return m.e**x + x - 5 \n",
    "\n",
    "    # Constants \n",
    "c = 299792458 # speed of light \n",
    "h = 6.626070e-34 # planks constant \n",
    "k = 1.380649e-23 # boltzman constant \n",
    "\n",
    "    # binary search\n",
    "epsilon = 10**(-6) # accuracy \n",
    "x1 = 1\n",
    "x2 = 2\n",
    "\n",
    "while abs(x1 - x2) > epsilon:\n",
    "    x = (x1 + x2)*0.5\n",
    "    if 0 < f(x): \n",
    "        x2 = x\n",
    "    else:\n",
    "        x1 = x\n",
    "x = (x1 + x2)*0.5\n",
    "\n",
    "b = (h*c)/(k*x) # displacement constant \n",
    "\n",
    "    # output\n",
    "print(\"The Wiens displacement constant is b =\",f'{b:,}',\"mK\")"
   ]
  },
  {
   "cell_type": "markdown",
   "id": "72b4befe-4972-4a68-b2c8-de517408722e",
   "metadata": {},
   "source": [
    "**c)** The displacement law is the basis for the method of optical pyrometry, a method for measuring the temperatures of objects by observing the color of the thermal radiation they emit. The method is commonly used to estimate the surface temperatures of astronomical bodies, such as the Sun. The wavelength peak in the Sun's emitted radiation falls\n",
    "at $\\lambda = 502 nm$. From the equations above and your value of the displacement constant,\n",
    "estimate the surface temperature of the Sun.\n",
    "***"
   ]
  },
  {
   "cell_type": "code",
   "execution_count": 13,
   "id": "474b74f5-afcf-4721-8bc6-6150b00e9a51",
   "metadata": {},
   "outputs": [
    {
     "name": "stdout",
     "output_type": "stream",
     "text": [
      "The temperature at the surface of the sun is T = 219,361.63 K\n"
     ]
    }
   ],
   "source": [
    "# Cell 2 \n",
    "\n",
    "    # wavelength peak in the Sun's emitted radiation\n",
    "lam = 502e-10 \n",
    "\n",
    "    # Temperature of suns surface\n",
    "T = b / lam\n",
    "\n",
    "    # output\n",
    "print(\"The temperature at the surface of the sun is T =\",f'{T:,.2f}',\"K\")"
   ]
  }
 ],
 "metadata": {
  "kernelspec": {
   "display_name": "Python 3 (ipykernel)",
   "language": "python",
   "name": "python3"
  },
  "language_info": {
   "codemirror_mode": {
    "name": "ipython",
    "version": 3
   },
   "file_extension": ".py",
   "mimetype": "text/x-python",
   "name": "python",
   "nbconvert_exporter": "python",
   "pygments_lexer": "ipython3",
   "version": "3.8.16"
  }
 },
 "nbformat": 4,
 "nbformat_minor": 5
}
