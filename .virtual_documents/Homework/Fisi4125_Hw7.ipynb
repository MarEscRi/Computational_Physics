














# cell 1

import numpy as np

V = np.array([[ 4,-1,-1, -1],
                 [-1, 3, 0, -1],
                 [-1, 0, 3, -1],
                 [-1,-1,-1,  4]],float)
a = np.array([5,0,5,0],float)
N = len(a)


for h in range(N):
    div = V[h,h]
    V[h,:] /= div
    a[h] /= div
    for i in range(h+1,N):
        mult = V[i,h]
        V[i,:] -= mult * V[h,:]
        a[i] -= mult * a[h]
        
Vn = np.empty(N,float)
for j in range(N-1,-1,-1):
    Vn[j] = a[j]
    for k in range(j+1,N):
        Vn[j] -= V[j,k]*Vn[k]

print("V1 =",f'{Vn[0]:.2f}')
print("V2 =",f'{Vn[1]:.2f}')
print("V3 =",f'{Vn[2]:.2f}')
print("V4 =",f'{Vn[3]:.2f}')










import numpy as np

A = np.array([[2, 1, 4, 1],
           [3, 4,-1,-1],
           [1,-4, 1, 5],
           [2,-2, 1, 3]],float)
v = np.array([-4,3,9,7],float)
N = len(v)

for l in range(N):
    if  A[l,0] <A[0,0]:
        A[[0,l],:]=A[[l,0],:]
        v[[0,l]]=v[[l,0]]
print(A)
print("\n",v)

for h in range(N):        
    div = A[h,h]
    A[h,:] /= div
    v[h] /= div
    for i in range(h+1,N):
        mult = A[i,h]
        A[i,:] -= mult * A[h,:]
        v[i] -= mult * v[h]
        
x = np.empty(N,float)
for j in range(N-1,-1,-1):
    x[j] = v[j]
    for k in range(j+1,N):
        x[j] -= A[j,k]*x[k]   
print("\n",A)
print("\n",v)


B = np.array([[0, 1, 4, 1],
           [3, 4,-1,-1],
           [1,-4, 1, 5],
           [2,-2, 1, 3]],float)
vb = np.array([-4,3,9,7],float)

for l in range(N):
    if B[l,0] > B[0,0]:
        B[[0,l],:]=B[[l,0],:]
        vb[[0,l]]=vb[[l,0]]

for h in range(N):        
    divB = B[h,h]
    B[h,:] /= divB
    vb[h] /= divB
    
    for i in range(h+1,N):
        multB = B[i,h]
        B[i,:] -= multB * B[h,:]
        vb[i] -= multB * vb[h]
        
y = np.empty(N,float)
for j in range(N-1,-1,-1):
    y[j] = vb[j]
    for k in range(j+1,N):
        y[j] -= B[j,k]*y[k]
        
print("\n",B)
print("\n",vb)





import numpy.linalg as npl
import numpy as np

V = np.array([[ 4,-1,-1, -1],
                 [-1, 3, 0, -1],
                 [-1, 0, 3, -1],
                 [-1,-1,-1,  4]],float)

a = np.array([5,0,5,0],float)

x = npl.solve(V,a)

print("V1 =",f'{x[0]:.2f}')
print("V2 =",f'{x[1]:.2f}')
print("V3 =",f'{x[2]:.2f}')
print("V4 =",f'{x[3]:.2f}')
