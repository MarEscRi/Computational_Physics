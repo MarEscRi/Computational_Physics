


# cell 1 
from numpy import loadtxt
import matplotlib.pyplot as plt

grid_values = loadtxt("stm.txt",float)

plt.imshow(grid_values,origin="lower")
plt.show()





# cell 2

import vpython as vp
from vpython import *

t = 5 
r = 0.3

for x in range(-t,t+1):
    for y in range(-t,t+1):
        for z in range(-t,t+1):
            if ((x+y+z+3*t))%2 ==0:
                sphere(pos=vector(x,y,z),radius=r,color=vp.color.magenta) 
            else:
                sphere(pos=vector(x,y,z),radius=r+0.2,color=vp.color.green) 



import vpython as vp
from vpython import *

t = 1
r= 0.3

for x in range(-t,t+1):

    for y in range(-t,t+1):
        for z in range(-t,t+1):
             if ((x+y+z+3*t))%2 ==0:
                sphere(pos=vector(x,y,z),radius=r,color=vp.color.orange) 





from vpython import *
import numpy as np
from numpy import empty
from math import cos,sin


c_1,   c_2,   c_3,  c_4 = 7.2e5, 1.e4,  7.12e4,  2.1e8,  

radius_object = np.array([2440*c_1, 6052*c_1, 6371*c_1, 3386*c_1, 69173*c_3,  57316*c_3, 695500*c_2  ],float)

radius_orbit = np.array([ 57.9, 108.2, 149.6, 227.9, 778.5, 1433.4, 0],float)*c_4

period_orbit = np.array([ 88.0, 224.7, 365.3, 687.0, 4331.6, 10759.2, 0.1],float)

color_list = [vec(1,0.7,0.2),color.white,color.green,color.red,color.magenta,color.cyan, color.yellow ]


solar_system = empty(len(radius_object),sphere) 

for celestial_object in arange(len(solar_system)): 
    solar_system[celestial_object] = sphere()

for celestial_object in range(len(solar_system)):
    solar_system[celestial_object].pos    = vec(radius_orbit[celestial_object],0,0)
    solar_system[celestial_object].radius = radius_object[celestial_object]
    solar_system[celestial_object].color  = color_list[celestial_object]

angular_frequency = period_orbit**-1
for time in arange(0,1500):
    for theta in range(len(solar_system)):
        rate(1000) 
        x = radius_orbit[theta] * cos(angular_frequency[theta]*time)
        y = radius_orbit[theta] * sin(angular_frequency[theta]*time)
        solar_system[theta].pos = vec(x,y,0)

names_ojects = ["Mercury", "Venus", "Earth", "Mars", "Jupiter", "Saturn", "Sun "]

for celestial_object in range(len(solar_system)):
    solar_system[celestial_object].pos    = vec(radius_orbit[celestial_object],0,0)
    solar_system[celestial_object].radius = radius_object[celestial_object]
    solar_system[celestial_object].color  = color_list[celestial_object]
    label(pos = solar_system[celestial_object].pos,
      text = names_ojects[celestial_object],
      font = "Roman",
      color = color.white,
      linecolor = color.white,
      linewidth = 0.5,
      yoffset = 150,
      xoffset = 0)
