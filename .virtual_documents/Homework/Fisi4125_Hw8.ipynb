


import numpy as np
import matplotlib.pyplot as plt


M = 100             
V = 1.0           
target = 1e-6          
a = 0.01               

p = np.zeros([M+1,M+1],float)
p[0,:] = V 


delta = 1.0
omega = .9
while delta>target:
    delta = 0
    for i in range(1,M):
        for j in range(1,M):
            dp = (p[i+1,j] + p[i-1,j] + p[i,j+1] + p[i,j-1])/4 - p[i,j]	         	
            p[i,j] = (1+omega)*dp + p[i,j]		
            if dp > delta: 
              delta = dp

plt.imshow(p)
plt.title("w = .9")
plt.gray()
plt.plot()
plt.show()



