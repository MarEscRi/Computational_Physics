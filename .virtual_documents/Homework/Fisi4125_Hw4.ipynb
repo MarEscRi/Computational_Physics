


# cell 1

import numpy as np

T = float(input('What is the value of the temperature (in Kelvin).'))

    # integrand
def f(x):
    return ((x**4) * np.e**(x)) / (((np.e**x) - 1)**2)

def cv(T):

        # constants 
    Vol = 0.001 
    k = 1.38064852e-23 
    d = 428 
    rho = 6.022e28 
    A = 9 * Vol * rho * k * ((T/d)**3)
    
    n = 1000        # slices  
    a = 0           # start point 
    b = d/T         # end point 
    h = (b - a) / n # width 
    s = .5*f(b)

        # sum
    for i in range(1,n):
        s += f(a + i*h)
    return A*h*s

    # output 
print('The heat capacity is,',cv(T),'J/K')





# cell 2 

import matplotlib.pyplot as plt

    # Temperature range
temperatures = np.linspace(5, 500, 1000)

    # Calculate heat capacity for each temperature
heat_capacities = [cv(T) for T in temperatures]

    # output
plt.plot(temperatures, heat_capacities)
plt.title('Heat Capacity vs Temperature')
plt.xlabel('Temperature (K)')
plt.ylabel('Heat Capacity (J/K)')
plt.grid(True)
plt.show()





# cell 3

    # integrand 
def f(x):
    return x**4 -2*x +1

n = 10          # slices 
a = 0           # starting point 
b = 2           # end point 
h = (b - a) / n # width of slices 

    # Simpson rule
s=f(a)+f(b)
for k in range(1,n,2):
    s+=4*f(a+k*h)
for k in range(2,n,2):
    s+=2*f(a+k*h)    





# cell 4

    # Values of integral 
I_approx = (h/3)*s # approximate value 
I_real = 4.4 # exact value 
error = abs(I_real - I_approx) / abs(I_real) # error 

    # Output
print('The value of the integral is', I_approx)
print('The fractional error is,',error,"or", error*100,"%")





# cell 5

    # integrand 
def f(x):
    return x**4 - 2*x + 1

    # Number of slices
n_100 = 100
n_1000 = 1000
    
    # Define function for Simpson's rule
def simpsons_rule(a, b, n):
    h = (b - a) / n
    s = f(a) + f(b)
    for k in range(1, n, 2):
        s += 4*f(a + k*h)
    for k in range(2, n-1, 2):
        s += 2*f(a + k*h)
    return (h/3) * s

    # Calculate integrals using Simpson's rule with different numbers of slices
I_approx_100 = simpsons_rule(0, 2, n_100)
I_approx_1000 = simpsons_rule(0, 2, n_1000)

    # Exact value of integral
I_real = 4.4

    # Calculate errors
error_100 = abs(I_real - I_approx_100) / abs(I_real)
error_1000 = abs(I_real - I_approx_1000) / abs(I_real)

    # Output
print('For 100 slices:')
print('The value of the integral is', I_approx_100)
print('The fractional error is', error_100, 'or', error_100 * 100, '%')

print('\nFor 1000 slices:')
print('The value of the integral is', I_approx_1000)
print('The fractional error is', error_1000, 'or', error_1000 * 100, '%')
