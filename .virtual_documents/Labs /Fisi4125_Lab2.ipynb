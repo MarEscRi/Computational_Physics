


# cell 2

    # User input
print("Taking the planet as an inercial frame.\n")
x = float(input('How far away is the other planet in Light years? '))
v = float(input('At what velocity does the rockect move?'))

    # making sure rocket velocity is a fraction of the speed of light 
while v>1.0 :
    print("Please provide your velocity as a fraction of lights speed\n")
    v = float(input('At what velocity does the rockect move?'))
    if v<1.0:
        break

    # making sure rocket is not moving at the spead of light 
while v==1.0 :
    print('Relativity doesnt like that...\n')
    v = float(input('At what velocity does the rockect move?'))
    if v<1.0:
        break

    # calculations 
gamma =  1 / ((1 - v**2)**(0.5)) # gamma factor 
tt = x/v # time in earths frame
tc = tt/gamma # time in rockets frame

    # output 
print('In earths frame the rockect will take', f'{tt:,.2f}', 'years to reach the planet.') 
print('In the rockets frame it will take', f'{tc:,.2f}', 'years to reach the planet.')
