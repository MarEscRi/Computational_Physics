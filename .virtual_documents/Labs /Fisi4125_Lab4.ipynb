


# cell 1

import numpy as np
from pylab import plot,show

data = np.loadtxt("sunspots.txt",float)

x = data[:,0]
y = data[:,1]

plot(x,y)
show()





# cell 2

import numpy as np
from pylab import plot,show,xlim

data = np.loadtxt("sunspots.txt",float)

x = data[:,0]
y = data[:,1]

xlim(0,1000)

plot(x,y)
show()






import numpy as np
from pylab import plot,show,xlim

data = np.loadtxt("sunspots.txt",float)

x = data[:,0]
y = data[:,1]

Y= [0]*len(y)

k = 6
while k < len(y) - 5: 
    Y[k] = sum(y[k-5:k+6]) 
    Y[k] = Y[k] / 10
    k += 1
    
xlim(5,1000)
plot(x,y,label="Data")
plot(x,Y,label="Average")
plt.legend()
show()

