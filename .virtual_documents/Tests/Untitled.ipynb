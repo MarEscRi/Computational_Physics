





import numpy as np
import matplotlib.pyplot as plt
plt.close("all")
o=10
R=28
b=8/3

def f(r,t):
    x = r[0]
    y = r[1]
    z = r[2]
    fx = o*(y-x)
    fy = R*x - y - x*z
    fz = x*y - b*z
    return np.array([fx,fy,fz],float)

t1=0
t2=50
N=10000
h = (t2-t1)/N
tp = np.arange(t1,t2,h)
xp=[]
yp=[]
zp=[]
r = np.array([0,1,0],float) 

for t in tp:
    xp.append(r[0])
    yp.append(r[1])
    zp.append(r[2])
    k1 = h*f(r,t)
    k2 = h*f(r+ 0.5*k1 ,t+ 0.5*h)
    k3 = h*f(r+ 0.5*k2, t+ 0.5*h)
    k4 = h*f(r+ k3, t+ h)
    r += (k1+ 2*k2 + 2*k3 + k4)/6
    
plt.plot(tp,yp,"magenta")
plt.title("Movement in y as a function of time")
plt.xlabel("time");plt.ylabel("y")
plt.show()





import numpy as np
import matplotlib.pyplot as plt
plt.close("all")
o=10
R=1
b=8/3

def f(r,t):
    x = r[0]
    y = r[1]
    z = r[2]
    fx = o*(y-x)
    fy = R*x - y - x*z
    fz = x*y - b*z
    return np.array([fx,fy,fz],float)

t1=0
t2=50
N=10000
h = (t2-t1)/N
tp = np.arange(t1,t2,h)
xp=[]
yp=[]
zp=[]
r = np.array([0,1,0],float) 

for t in tp:
    xp.append(r[0])
    yp.append(r[1])
    zp.append(r[2])
    k1 = h*f(r,t)
    k2 = h*f(r+ 0.5*k1 ,t+ 0.5*h)
    k3 = h*f(r+ 0.5*k2, t+ 0.5*h)
    k4 = h*f(r+ k3, t+ h)
    r += (k1+ 2*k2 + 2*k3 + k4)/6
    

plt.plot(xp,zp,"blue")
plt.title("Strange atractor (r=1)")
plt.xlabel("x");plt.ylabel("z")
plt.show()














import pylab as plt
import numpy as np

A = 10
B = 12
tau = 365
D = 0.1

def T0(t):
	return A + B*np.sin(2*np.pi*t/tau)

L = 20 
D = 0.1 
N = 100    
a = L/N 
h = 0.01   

T = np.zeros(N+1,float)
T[1:N]=10

def iterate(T,t_min,t_max):
	t = t_min
	c = h*D/a**2
	while t<t_max:
		T[0] = T0(t)
		T[N] = 11
		T[1:N] = T[1:N] + c*(T[2:N+1]+T[0:N-1]-2*T[1:N])
		t += h
	return T

T9 = iterate(T,0,365*9)
T9_i = T9
t_min = 365*9

for t_max in [365*9 + i*(365//4) for i in range(4)]:
	T9_i = iterate(T9_i,t_min,t_max)
	plt.plot(T9_i,label=t_max%365/(365//4))
	t_min = t_max

plt.legend()
plt.xlabel("x")
plt.ylabel("T")
plt.show()






