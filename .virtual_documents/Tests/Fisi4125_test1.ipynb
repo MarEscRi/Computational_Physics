





# cell 1 

import numpy as np
import matplotlib.pyplot as plt

    # function to be derived 
def f(x):
    return np.sin(x)

    # derivative of function to be derived 
def df(x):
    return np.cos(x)

x0 = np.pi

h = np.linspace(10**(-20),1, 100000) 

approx_df = (f(x0 + h) - f(x0))/h
delta_h = abs(df(x0) + approx_df) 





# cell 2

plt.plot(np.log10(h), np.log10(delta_h))
plt.xlabel(r'$\log(\Delta(h))$')
plt.ylabel(r'$\log(h)$')
plt.show()














# cell 3
import math
import pylab as plt
def f(x):
    return math.e**(-x)

q = int(input("How many slices do you want?"))
T = [0]*(q)
S = [0]*(q)
eT = [0]*(q)
eS = [0]*(q)
leT = [0]*(q)
leS = [0]*(q)

N = [0]*(q)


for n in range(1,q):
    a=0
    b=1 
    h=(b-a)/n
    N[n] = n
        #Exact value 
    I = 1 - (math.e)**(-1)

        #Trapeziod
    T[n] = 0.5*f(a) + 0.5*f(b)
    for k in range(1,n):
        T[n] += f(a + k*h)
    T[n] = T[n]*h

        #Simpson 
    S[n]=f(a)+f(b)
    for k in range(1,n,2):
        S[n] +=4*f(a+k*h)
    for k in range(2,n,2):
        S[n] +=2*f(a+k*h)
    S[n] = S[n]*(h/3)

    #error Trapeziod 
    eT[n] = abs((I-T[n])/I)
    #error Simpson
    eS[n] = abs((I-S[n])/I)
    leT[n] = math.log10(eT[n])
    leS[n] = math.log10(eS[n])

print("The exact value is:", I)
print("The Trapezoid rule provides a value of",T[-1])
print("Simpsons rule provides a value of",S[-1])
print("The relative error in trapeziod is:", eT[-1])
print("The relative error in simpson is:", eS[-1])













import math
import pylab as plt
def f(x):
    return math.e**(-x)

q = int(input("How many slices do you want?"))
T = [0]*(q)
S = [0]*(q)
eT = [0]*(q)
eS = [0]*(q)
leT = [0]*(q)
leS = [0]*(q)

N = [0]*(q)


for n in range(1,q):
    a=0
    b=1 
    h=(b-a)/n
    N[n] = n
        #El valor exacto 
    I = 1 - (math.e)**(-1)

        #Trapezio 
    T[n] = 0.5*f(a) + 0.5*f(b)
    for k in range(1,n):
        T[n] += f(a + k*h)
    T[n] = T[n]*h

        #Simpson 
    S[n]=f(a)+f(b)
    for k in range(1,n,2):
        S[n] +=4*f(a+k*h)
    for k in range(2,n,2):
        S[n] +=2*f(a+k*h)
    S[n] = S[n]*(h/3)

    #error Trapezio 
    eT[n] = abs((I-T[n])/I)
    #error Simpson
    eS[n] = abs((I-S[n])/I)
    leT[n] = math.log10(eT[n])
    leS[n] = math.log10(eS[n])

plt.plot(N,leS,leT)
plt.show()








# cell 3 

from math import pi, cos, sin
from pylab import xlabel, ylabel, plot, show

g = 9.8
theta0_degree = 53 # degrees 
theta0_radian = (2*pi*theta0_degree)/360

v0 = 30
x0 = 0
y0 = 100
vx = v0*cos(theta0_radian) 
vy = v0*sin(theta0_radian) 
X = [0] 
Y = [100] 
t = 0.0 
ynew = y0

while (ynew > 0):
    t = t+0.01
    xnew = x0 + vx*t
    ynew = y0 + vy*t - 0.5*g*t**2 
    X.append(xnew) 
    Y.append(ynew)
    
print("Final Altitude Above Ground = ", f'{Y[len(Y)-2]:.2f}') 
print("Final Horizontal Displacement", f'{xnew:.2f}') 
print("Time to reach ground =", f'{t:.2f}')
show()

plot(X,Y)
xlabel("Horizontal Distance") 
ylabel("Altitude")
