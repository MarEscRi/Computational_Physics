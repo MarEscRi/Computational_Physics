




















import numpy as np
import pylab as plt 

GM = 4*(np.pi)**2

def f(r,t):
    x  = r[0]
    vx = r[1]
    y  = r[2]
    vy = r[3]
    
    R = (x**2 + y**2)**(0.5)
    
    fx  = vx
    fvx = -GM*(x/(R**3))
    fy  = vy
    fvy = -GM*(y/(R**3))
    return np.array([fx, fvx, fy, fvy], float)

a = 0       
b = 1
N = 1000
h = (b-a)/N 

tp = np.arange(a,b,h)
xp  = []
vxp = []
yp  = []
vyp = []

    #Condiciones iniciales
r = np.array( [ 1, 0, 0, np.pi ], float)

for t in tp: 
    xp.append(r[0])
    vxp.append(r[1])
    yp.append(r[2])
    vyp.append(r[3])
    
    k1 = h*f(r,t)
    k2 = h*f(r + 0.5*k1, t + 0.5*h)
    k3 = h*f(r + 0.5*k2, t + 0.5*h)
    k4 = h*f(r + k3, t + h)
    r += (k1 + 2*k2 + 2*k3 + k4)/6
    
plt.plot(xp, yp)
plt.show()








import numpy as np
import matplotlib.pyplot as plt


def f(x,c):
    return (1-np.exp(-c*x))
def s(c):
    x_0 = 1 
    ac = 1e-6
    e = 1
    while e > ac:
        x = f(x_0,c)
        e = np.abs(f(x,c)-f(x_0,c))
        
        x_0 = x
    return x

x_a = s(2)
print("with C=2 the solution ",f'{x_a:.4f}')






x_list = []
c = np.linspace(0,3)
for i in range(len(c)):
    y = s(c[i])
    x_list.append(y)

plt.plot(c,x_list,color="red")
plt.xlabel("c")
plt.ylabel("x")
plt.show()











import numpy as np
import pylab as plt 

V = np.array([[4,0, 0, -2],
              [0,9, 0, -5],
              [0,0,-5,  3]],float)

E = np.array([-1,-1,0],float)
N = len(E)


for i in range(N):
    divide = V[i,i]
    V[i,:] /= divide
    E[i] /= divide
    for j in range(i+1,N):
        mult = V[j,i]
        V[j,:] -= mult * V[i,:]
        E[j] -= mult * E[i]
        
Nodo = np.empty(N,float)
for i in range(N-1,-1,-1):
    Nodo[i] = E[i]
    for j in range(i+1,N):
        Nodo[i] -= V[i,j]*Nodo[j]


E2 = np.linspace(0,20,100)
I2 = E2/5     
Power = I2**2 * 5

plt.plot(E2,Power)
plt.xlabel("Voltage in E2 (V)")
plt.ylabel("Power (W)")
plt.show()















from numpy import array,arange,sin,cos,pi,radians,sqrt,radians
from matplotlib.pyplot import plot,close,xlabel,ylabel,title,legend,show,xlim,ylim,scatter
close("all")
g=9.81
rho = 1.22
c=0.47
m=1
R=0.08
theta=radians(30)

v0 = 100
vxi=v0*cos(theta)
vyi=v0*sin(theta)

def f(x,t):
    k=(pi*(R**2)*rho*c)/(2*m)
    x = r[0]
    vx = r[1]
    y = r[2]
    vy = r[3]
    fx= vx
    fy= vy
    fvx = -k*vx*sqrt(vx**2 + vy**2)
    fvy = -g-k*vy*sqrt(vx**2 + vy**2)
    return array([fx,fvx,fy,fvy],float)

a=0
b=100
N=10000
h=(b-a)/N

tpoints=arange(a,b,h)
xp=[]
yp=[]
vxp=[]
vyp=[]
r = array([0,vxi,0,vyi],float)

for t in tpoints:
    xp.append(r[0])
    vxp.append(r[1])
    yp.append(r[2])
    vyp.append(r[3])
    k1 = h*f(r,t)
    k2 = h*f(r+.5 *k1,t+.5*h)
    k3 = h*f(r+.5 *k2,t+.5*h)
    k4 = h*f(r+k3,t+h)
    r += (k1+ 2*k2+ 2*k3+ k4)/6

plot(xp,yp)
title("Particle Trajectory")
xlabel("Distance")
ylabel("Height")
xlim(0,max(xp))
ylim(0,max(yp)+1)





from numpy import array,arange,sin,cos,pi,radians,sqrt,radians
from matplotlib.pyplot import plot,close,xlabel,ylabel,title,legend,show,xlim,ylim,scatter
close("all")
g=9.81
rho = 1.22
c=0.47
R=0.08
theta=radians(30)

v0 = 100
vxi=v0*cos(theta)
vyi=v0*sin(theta)
def f(x,t):
    k=(pi*(R**2)*rho*c)/(2*m)
    x = r[0]
    vx = r[1]
    y = r[2]
    vy = r[3]
    fx= vx
    fy= vy
    fvx = -k*vx*sqrt(vx**2 + vy**2)
    fvy = -g-k*vy*sqrt(vx**2 + vy**2)
    return array([fx,fvx,fy,fvy],float)

a=0
b=100
N=10000
h=(b-a)/N
tp=arange(a,b,h)

xp=[]
yp=[]
vxp=[]
vyp=[]
r = array([0,vxi,0,vyi],float)
D=[]
masas=[0.1,1,10,50]
for m in masas:
    k=(pi*(R**2)*rho*c)/(2*m)
    for t in tp:
        xp.append(r[0])
        vxp.append(r[1])
        yp.append(r[2])
        vyp.append(r[3])
        k1 = h*f(r,t)
        k2 = h*f(r+.5 *k1,t+.5*h)
        k3 = h*f(r+.5 *k2,t+.5*h)
        k4 = h*f(r+k3,t+h)
        r += (k1+ 2*k2+ 2*k3+ k4)/6
    D.append(tuple((m,xp[-1])))
    xp=[]
    yp=[]
    vxp=[]
    vyp=[]
    r = array([0,vxi,0,vyi],float)

x_values= [x[0] for x in D]
y_values = [x[1] for x in D]
plot(x_values,y_values)
plot(x_values,y_values,"o")
title("Distance to base of mass")
xlabel("Mass")
ylabel("Distance")
